{
 "cells": [
  {
   "cell_type": "code",
   "execution_count": 18,
   "id": "73d0da7e",
   "metadata": {},
   "outputs": [
    {
     "name": "stdout",
     "output_type": "stream",
     "text": [
      "\n",
      "image 1/1 d:\\projects\\ML\\lab_2\\yolo\\Hindrances_finder\\79c5248c897d0dd9b074a5172671721f60da9f257d801e9d673c7c9bfc9dfc42.jpg: 384x640 2 hindrances, 204.5ms\n",
      "Speed: 1.2ms preprocess, 204.5ms inference, 1.1ms postprocess per image at shape (1, 3, 384, 640)\n"
     ]
    },
    {
     "data": {
      "text/plain": [
       "'result.jpg'"
      ]
     },
     "execution_count": 18,
     "metadata": {},
     "output_type": "execute_result"
    }
   ],
   "source": [
    "from ultralytics import YOLO\n",
    "\n",
    "# Укажи путь к весам обученной модели\n",
    "model = YOLO(\"best.pt\")\n",
    "results = model.predict(\"79c5248c897d0dd9b074a5172671721f60da9f257d801e9d673c7c9bfc9dfc42.jpg\")\n",
    "results[0].save(\"result.jpg\")"
   ]
  }
 ],
 "metadata": {
  "kernelspec": {
   "display_name": "Python 3",
   "language": "python",
   "name": "python3"
  },
  "language_info": {
   "codemirror_mode": {
    "name": "ipython",
    "version": 3
   },
   "file_extension": ".py",
   "mimetype": "text/x-python",
   "name": "python",
   "nbconvert_exporter": "python",
   "pygments_lexer": "ipython3",
   "version": "3.13.3"
  }
 },
 "nbformat": 4,
 "nbformat_minor": 5
}
