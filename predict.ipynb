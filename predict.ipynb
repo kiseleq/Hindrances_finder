{
 "cells": [
  {
   "cell_type": "code",
   "execution_count": 19,
   "id": "73d0da7e",
   "metadata": {},
   "outputs": [
    {
     "name": "stdout",
     "output_type": "stream",
     "text": [
      "\n",
      "image 1/1 d:\\projects\\ML\\lab_2\\yolo\\Hindrances_finder\\test_img.jpg: 384x640 2 hindrances, 217.2ms\n",
      "Speed: 1.3ms preprocess, 217.2ms inference, 0.7ms postprocess per image at shape (1, 3, 384, 640)\n"
     ]
    },
    {
     "data": {
      "text/plain": [
       "'result.jpg'"
      ]
     },
     "execution_count": 19,
     "metadata": {},
     "output_type": "execute_result"
    }
   ],
   "source": [
    "from ultralytics import YOLO\n",
    "\n",
    "# Укажи путь к весам обученной модели\n",
    "model = YOLO(\"best.pt\")\n",
    "results = model.predict(\"test_img.jpg\", conf=0.5)\n",
    "results[0].save(\"result.jpg\")"
   ]
  }
 ],
 "metadata": {
  "kernelspec": {
   "display_name": "Python 3",
   "language": "python",
   "name": "python3"
  },
  "language_info": {
   "codemirror_mode": {
    "name": "ipython",
    "version": 3
   },
   "file_extension": ".py",
   "mimetype": "text/x-python",
   "name": "python",
   "nbconvert_exporter": "python",
   "pygments_lexer": "ipython3",
   "version": "3.13.3"
  }
 },
 "nbformat": 4,
 "nbformat_minor": 5
}
