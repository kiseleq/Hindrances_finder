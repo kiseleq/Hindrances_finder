{
 "cells": [
  {
   "cell_type": "code",
   "execution_count": null,
   "id": "73d0da7e",
   "metadata": {},
   "outputs": [
    {
     "name": "stdout",
     "output_type": "stream",
     "text": [
      "\n",
      "image 1/1 /Users/andrey_kiseleq/Documents/vs_code/itmo/Hindrances_finder/test_img.jpg: 384x640 2 hindrances, 130.7ms\n",
      "Speed: 1.1ms preprocess, 130.7ms inference, 0.3ms postprocess per image at shape (1, 3, 384, 640)\n"
     ]
    },
    {
     "data": {
      "text/plain": [
       "'result.jpg'"
      ]
     },
     "execution_count": 3,
     "metadata": {},
     "output_type": "execute_result"
    }
   ],
   "source": [
    "from ultralytics import YOLO\n",
    "\n",
    "# Укажи путь к весам обученной модели\n",
    "model = YOLO(\"best.pt\")\n",
    "results = model.predict(\"test_img.jpg\", conf=0.5, save=False )\n",
    "results[0].save(\"result.jpg\")"
   ]
  },
  {
   "cell_type": "code",
   "execution_count": 10,
   "id": "c0a2521d",
   "metadata": {},
   "outputs": [
    {
     "name": "stdout",
     "output_type": "stream",
     "text": [
      "Health check: {'status': 'OK'}\n",
      "Результат сохранён в result.jpg\n"
     ]
    }
   ],
   "source": [
    "import requests\n",
    "\n",
    "# Адрес сервера\n",
    "URL = \"http://127.0.0.1:5000\"\n",
    "\n",
    "# 1. Проверка работоспособности\n",
    "def check_health():\n",
    "    resp = requests.get(f\"{URL}/health\")\n",
    "    print(\"Health check:\", resp.json())\n",
    "\n",
    "# 2. Отправка изображения и получение результата\n",
    "def send_image(image_path, output_path=\"result.jpg\"):\n",
    "    with open(image_path, \"rb\") as img_file:\n",
    "        files = {\"file\": img_file}\n",
    "        response = requests.post(f\"{URL}/predict_image\", files=files)\n",
    "        \n",
    "        if response.status_code == 200:\n",
    "            with open(output_path, \"wb\") as out_file:\n",
    "                out_file.write(response.content)\n",
    "            print(f\"Результат сохранён в {output_path}\")\n",
    "        else:\n",
    "            print(f\"Ошибка {response.status_code}: {response.text}\")\n",
    "\n",
    "# Пример запуска\n",
    "if __name__ == \"__main__\":\n",
    "    check_health()\n",
    "    send_image(\"images/test_img.jpg\")  # Замени на путь к твоему изображению\n"
   ]
  }
 ],
 "metadata": {
  "kernelspec": {
   "display_name": "Python 3",
   "language": "python",
   "name": "python3"
  },
  "language_info": {
   "codemirror_mode": {
    "name": "ipython",
    "version": 3
   },
   "file_extension": ".py",
   "mimetype": "text/x-python",
   "name": "python",
   "nbconvert_exporter": "python",
   "pygments_lexer": "ipython3",
   "version": "3.13.3"
  }
 },
 "nbformat": 4,
 "nbformat_minor": 5
}
